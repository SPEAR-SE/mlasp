{
 "cells": [
  {
   "cell_type": "code",
   "execution_count": null,
   "metadata": {},
   "outputs": [],
   "source": [
    "%run \"minMaxScalerSetup.ipynb\"\n",
    "%run \"standardScalerSetup.ipynb\""
   ]
  },
  {
   "cell_type": "code",
   "execution_count": null,
   "metadata": {},
   "outputs": [],
   "source": [
    "# Following 2 approaches:\n",
    "# 1. Using the Baseline Dataset (of 30 records) to train models and verify on fresh datasets\n",
    "# 2. Traditional modeling using random data from the whole 900 records dataset\n",
    "\n",
    "# For each approach data shall be scaled with StandardScaler and MinMaxScaler respectively."
   ]
  },
  {
   "cell_type": "code",
   "execution_count": null,
   "metadata": {},
   "outputs": [],
   "source": [
    "from sklearn import metrics"
   ]
  },
  {
   "cell_type": "code",
   "execution_count": null,
   "metadata": {},
   "outputs": [],
   "source": [
    "# RandomForests\n",
    "from sklearn.ensemble import RandomForestClassifier, RandomForestRegressor\n",
    "\n",
    "#rfCLF = RandomForestClassifier(n_estimators=400, random_state=0)\n",
    "rfRGR_base_std = RandomForestRegressor(n_estimators=400, random_state=0)\n",
    "rfRGR_base_minMax = RandomForestRegressor(n_estimators=400, random_state=0)\n",
    "rfRGR_all_std = RandomForestRegressor(n_estimators=400, random_state=0)\n",
    "rfRGR_all_minMax = RandomForestRegressor(n_estimators=400, random_state=0)"
   ]
  },
  {
   "cell_type": "code",
   "execution_count": null,
   "metadata": {},
   "outputs": [],
   "source": [
    "%%time\n",
    "\n",
    "rfRGR_base_std.fit(X_train_base_std, y_train_base_std.values.ravel())\n",
    "\n",
    "rfRGR_base_minMax.fit(X_train_base_minMax, y_train_base_minMax.values.ravel())\n",
    "\n",
    "rfRGR_all_std.fit(X_train_all_std, y_train_all_std.values.ravel())\n",
    "\n",
    "rfRGR_all_minMax.fit(X_train_all_minMax, y_train_all_minMax.values.ravel())"
   ]
  },
  {
   "cell_type": "code",
   "execution_count": null,
   "metadata": {},
   "outputs": [],
   "source": [
    "# Predictions on RF with baseline and std scaler on non baseline dataset\n",
    "#y_pred_base_std_RF_L1Z2 = rfRGR_base_std.predict(X_test1_summaryL1Z2_std)\n",
    "\n",
    "y_pred_base_std_RF_L1Z2 = rfRGR_base_std.predict(X_test1_summaryL1Z2_std)"
   ]
  },
  {
   "cell_type": "code",
   "execution_count": null,
   "metadata": {},
   "outputs": [],
   "source": [
    "#Show results\n",
    "print(metrics.r2_score(y_test1_summaryL1Z2_std, y_pred_base_std_RF_L1Z2))\n",
    "print(metrics.mean_absolute_error(y_test1_summaryL1Z2_std, y_pred_base_std_RF_L1Z2))\n",
    "print(metrics.mean_squared_error(y_test1_summaryL1Z2_std, y_pred_base_std_RF_L1Z2))"
   ]
  },
  {
   "cell_type": "code",
   "execution_count": null,
   "metadata": {},
   "outputs": [],
   "source": [
    "minMaeAWS_base = metrics.mean_absolute_error(y_test1_summaryL1Z2_std, y_pred_base_std_RF_L1Z2)\n",
    "minR2AWS_base = metrics.r2_score(y_test1_summaryL1Z2_std, y_pred_base_std_RF_L1Z2)\n",
    "modelNameAWS_base = \"RF_Base_Std\""
   ]
  },
  {
   "cell_type": "code",
   "execution_count": null,
   "metadata": {},
   "outputs": [],
   "source": [
    "plt.figure(figsize=(20,10))\n",
    "plt.scatter(range(y_test1_summaryL1Z2_std.shape[0]),y_test1_summaryL1Z2_std,label=\"Original Data\", alpha=0.6, c='black')\n",
    "plt.scatter(range(y_pred_base_std_RF_L1Z2.shape[0]),y_pred_base_std_RF_L1Z2,label=\"Predicted Data\", alpha=0.6, c='red')\n",
    "plt.ylabel('Total Messages')\n",
    "plt.xlabel('Records')\n",
    "plt.title('Random Forests Predictions from Base_STD_Scaler Model')\n",
    "plt.legend()\n",
    "plt.show()"
   ]
  },
  {
   "cell_type": "code",
   "execution_count": null,
   "metadata": {},
   "outputs": [],
   "source": [
    "delta = pd.DataFrame()\n",
    "delta = (1-(pd.DataFrame(y_pred_base_std_RF_L1Z2)  / y_test1_summaryL1Z2_std.to_numpy()))*100\n",
    "delta = delta.rename(columns={delta.columns[0]: \"ThroughputDeltaDeviationPercentage\"})\n",
    "delta"
   ]
  },
  {
   "cell_type": "code",
   "execution_count": null,
   "metadata": {},
   "outputs": [],
   "source": [
    "c = delta.plot.bar(figsize=(20,10))"
   ]
  },
  {
   "cell_type": "code",
   "execution_count": null,
   "metadata": {},
   "outputs": [],
   "source": [
    "c = delta.plot.hist()"
   ]
  },
  {
   "cell_type": "code",
   "execution_count": null,
   "metadata": {
    "scrolled": true
   },
   "outputs": [],
   "source": [
    "# Predictions on RF with baseline and MinMax scaler on non baseline dataset\n",
    "y_pred_base_minMax_RF_L1Z2 = rfRGR_base_minMax.predict(X_test1_summaryL1Z2_minMax)"
   ]
  },
  {
   "cell_type": "code",
   "execution_count": null,
   "metadata": {},
   "outputs": [],
   "source": [
    "#Show results\n",
    "print(metrics.r2_score(y_test1_summaryL1Z2_minMax, y_pred_base_minMax_RF_L1Z2))\n",
    "print(metrics.mean_absolute_error(y_test1_summaryL1Z2_minMax, y_pred_base_minMax_RF_L1Z2))\n",
    "print(metrics.mean_squared_error(y_test1_summaryL1Z2_minMax, y_pred_base_minMax_RF_L1Z2))"
   ]
  },
  {
   "cell_type": "code",
   "execution_count": null,
   "metadata": {},
   "outputs": [],
   "source": [
    "if metrics.mean_absolute_error(y_test1_summaryL1Z2_minMax, y_pred_base_minMax_RF_L1Z2) < minMaeAWS_base:\n",
    "    minMaeAWS_base = metrics.mean_absolute_error(y_test1_summaryL1Z2_minMax, y_pred_base_minMax_RF_L1Z2)\n",
    "    minR2AWS_base = metrics.r2_score(y_test1_summaryL1Z2_minMax, y_pred_base_minMax_RF_L1Z2)\n",
    "    modelNameAWS_base = \"RF_Base_MinMax\""
   ]
  },
  {
   "cell_type": "code",
   "execution_count": null,
   "metadata": {},
   "outputs": [],
   "source": [
    "plt.figure(figsize=(20,10))\n",
    "plt.scatter(range(y_test1_summaryL1Z2_minMax.shape[0]),y_test1_summaryL1Z2_minMax,label=\"Original Data\", alpha=0.6, c='black')\n",
    "plt.scatter(range(y_pred_base_minMax_RF_L1Z2.shape[0]),y_pred_base_minMax_RF_L1Z2,label=\"Predicted Data\", alpha=0.6, c='red')\n",
    "plt.ylabel('Total Messages')\n",
    "plt.xlabel('Records')\n",
    "plt.title('Random Forests Predictions from Base_MinMax_Scaler Model')\n",
    "plt.legend()\n",
    "plt.show()"
   ]
  },
  {
   "cell_type": "code",
   "execution_count": null,
   "metadata": {},
   "outputs": [],
   "source": [
    "# testing one more dataset on the base\n",
    "y_pred_base_std_RF_L3Z2 = rfRGR_base_std.predict(X_test1_summaryL3Z2_std)"
   ]
  },
  {
   "cell_type": "code",
   "execution_count": null,
   "metadata": {},
   "outputs": [],
   "source": [
    "metrics.mean_absolute_error(y_test1_summaryL3Z2_std, y_pred_base_std_RF_L3Z2)"
   ]
  },
  {
   "cell_type": "code",
   "execution_count": null,
   "metadata": {},
   "outputs": [],
   "source": [
    "metrics.r2_score(y_test1_summaryL3Z2_std, y_pred_base_std_RF_L3Z2)"
   ]
  },
  {
   "cell_type": "code",
   "execution_count": null,
   "metadata": {},
   "outputs": [],
   "source": [
    "plt.figure(figsize=(20,10))\n",
    "plt.scatter(range(y_test1_summaryL3Z2_std.shape[0]),y_test1_summaryL3Z2_std,label=\"Original Data\", alpha=0.6, c='black')\n",
    "plt.scatter(range(y_pred_base_std_RF_L3Z2.shape[0]),y_pred_base_std_RF_L3Z2,label=\"Predicted Data\", alpha=0.6, c='red')\n",
    "plt.ylabel('Total Messages')\n",
    "plt.xlabel('Records')\n",
    "plt.title('Random Forests Predictions from Base_STD_Scaler Model L3Z2')\n",
    "plt.legend()\n",
    "plt.show()"
   ]
  },
  {
   "cell_type": "code",
   "execution_count": null,
   "metadata": {},
   "outputs": [],
   "source": [
    "# All data RF std scaler\n",
    "y_pred_all_std_RF = rfRGR_all_std.predict(X_test_all_std)"
   ]
  },
  {
   "cell_type": "code",
   "execution_count": null,
   "metadata": {},
   "outputs": [],
   "source": [
    "print(metrics.mean_absolute_error(y_test_all_std, y_pred_all_std_RF))\n",
    "print(metrics.r2_score(y_test_all_std, y_pred_all_std_RF))\n",
    "print(metrics.mean_squared_error(y_test_all_std, y_pred_all_std_RF))"
   ]
  },
  {
   "cell_type": "code",
   "execution_count": null,
   "metadata": {},
   "outputs": [],
   "source": [
    "minMaeAWS = metrics.mean_absolute_error(y_test_all_std, y_pred_all_std_RF)\n",
    "minR2AWS = metrics.r2_score(y_test_all_std, y_pred_all_std_RF)\n",
    "modelNameAWS = \"RF_All_Std\""
   ]
  },
  {
   "cell_type": "code",
   "execution_count": null,
   "metadata": {},
   "outputs": [],
   "source": [
    "plt.figure(figsize=(20,10))\n",
    "plt.scatter(range(y_test_all_std.shape[0]),y_test_all_std,label=\"Original Data\", alpha=0.6, c='black')\n",
    "plt.scatter(range(y_pred_all_std_RF.shape[0]),y_pred_all_std_RF,label=\"Predicted Data\", alpha=0.6, c='red')\n",
    "plt.ylabel('Total Messages')\n",
    "plt.xlabel('Records')\n",
    "plt.title('Random Forests Predictions from All_STD_Scaler Model')\n",
    "plt.legend()\n",
    "plt.show()"
   ]
  },
  {
   "cell_type": "code",
   "execution_count": null,
   "metadata": {},
   "outputs": [],
   "source": [
    "# MinMax Scaler ALL\n",
    "y_pred_all_minMax_RF = rfRGR_all_minMax.predict(X_test_all_minMax)"
   ]
  },
  {
   "cell_type": "code",
   "execution_count": null,
   "metadata": {},
   "outputs": [],
   "source": [
    "print(metrics.mean_absolute_error(y_test_all_minMax, y_pred_all_minMax_RF))\n",
    "print(metrics.r2_score(y_test_all_minMax, y_pred_all_minMax_RF))\n",
    "print(metrics.mean_squared_error(y_test_all_minMax, y_pred_all_minMax_RF))"
   ]
  },
  {
   "cell_type": "code",
   "execution_count": null,
   "metadata": {},
   "outputs": [],
   "source": [
    "if metrics.mean_absolute_error(y_test_all_minMax, y_pred_all_minMax_RF) < minMaeAWS :\n",
    "    minMaeAWS = metrics.mean_absolute_error(y_test_all_minMax, y_pred_all_minMax_RF)\n",
    "    minR2AWS = metrics.r2_score(y_test_all_minMax, y_pred_all_minMax_RF)\n",
    "    modelNameAWS = \"RF_All_MinMax\""
   ]
  },
  {
   "cell_type": "code",
   "execution_count": null,
   "metadata": {},
   "outputs": [],
   "source": [
    "plt.figure(figsize=(20,10))\n",
    "plt.scatter(range(y_test_all_minMax.shape[0]),y_test_all_minMax,label=\"Original Data\", alpha=0.6, c='black')\n",
    "plt.scatter(range(y_pred_all_minMax_RF.shape[0]),y_pred_all_minMax_RF,label=\"Predicted Data\", alpha=0.6, c='red')\n",
    "plt.ylabel('Total Messages')\n",
    "plt.xlabel('Records')\n",
    "plt.title('Random Forests Predictions from All_MinMax_Scaler Model')\n",
    "plt.legend()\n",
    "plt.show()"
   ]
  },
  {
   "cell_type": "code",
   "execution_count": null,
   "metadata": {},
   "outputs": [],
   "source": [
    "minMaeAWS, minR2AWS, modelNameAWS"
   ]
  },
  {
   "cell_type": "code",
   "execution_count": null,
   "metadata": {},
   "outputs": [],
   "source": [
    "minMaeAWS_base, minR2AWS_base, modelNameAWS_base"
   ]
  },
  {
   "cell_type": "code",
   "execution_count": null,
   "metadata": {},
   "outputs": [],
   "source": []
  }
 ],
 "metadata": {
  "kernelspec": {
   "display_name": "TensorFlow-CPU",
   "language": "python",
   "name": "tf-cpu"
  },
  "language_info": {
   "codemirror_mode": {
    "name": "ipython",
    "version": 3
   },
   "file_extension": ".py",
   "mimetype": "text/x-python",
   "name": "python",
   "nbconvert_exporter": "python",
   "pygments_lexer": "ipython3",
   "version": "3.6.9"
  }
 },
 "nbformat": 4,
 "nbformat_minor": 2
}
