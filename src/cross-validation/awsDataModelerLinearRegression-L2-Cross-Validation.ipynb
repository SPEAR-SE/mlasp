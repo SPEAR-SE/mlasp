{
 "cells": [
  {
   "cell_type": "code",
   "execution_count": null,
   "metadata": {},
   "outputs": [],
   "source": [
    "from sklearn import metrics"
   ]
  },
  {
   "cell_type": "code",
   "execution_count": null,
   "metadata": {},
   "outputs": [],
   "source": [
    "from sklearn.linear_model import Ridge\n",
    "from sklearn.model_selection import learning_curve"
   ]
  },
  {
   "cell_type": "code",
   "execution_count": null,
   "metadata": {},
   "outputs": [],
   "source": [
    "linearModel_base_STD = Ridge()"
   ]
  },
  {
   "cell_type": "code",
   "execution_count": null,
   "metadata": {},
   "outputs": [],
   "source": [
    "linearModel_all_MinMax = Ridge()"
   ]
  },
  {
   "cell_type": "code",
   "execution_count": null,
   "metadata": {},
   "outputs": [],
   "source": [
    "linearModel_base_STD.fit(X_train_base_std, y_train_base_std)"
   ]
  },
  {
   "cell_type": "code",
   "execution_count": null,
   "metadata": {},
   "outputs": [],
   "source": [
    "y_pred_base_std = linearModel_base_STD.predict(X_test1_summaryL1Z2_std)"
   ]
  },
  {
   "cell_type": "code",
   "execution_count": null,
   "metadata": {},
   "outputs": [],
   "source": [
    "minMseAWS_base = metrics.mean_squared_error(y_test1_summaryL1Z2_std, y_pred_base_std)\n",
    "minRmseAWS_base = np.sqrt(minMseAWS_base)\n",
    "minMaeAWS_base = metrics.mean_absolute_error(y_test1_summaryL1Z2_std, y_pred_base_std)\n",
    "minR2AWS_base = metrics.r2_score(y_test1_summaryL1Z2_std, y_pred_base_std)\n",
    "modelNameAWS_base = \"LinearRegressionL2_Base_Std\""
   ]
  },
  {
   "cell_type": "code",
   "execution_count": null,
   "metadata": {},
   "outputs": [],
   "source": [
    "delta = pd.DataFrame()\n",
    "delta = (1-(pd.DataFrame(y_pred_base_std)  / y_test1_summaryL1Z2_std.to_numpy()))*100\n",
    "delta = delta.rename(columns={delta.columns[0]: \"Deviation (%)\"})"
   ]
  },
  {
   "cell_type": "code",
   "execution_count": null,
   "metadata": {},
   "outputs": [],
   "source": [
    "mpd_base =  delta.median()[0]"
   ]
  },
  {
   "cell_type": "code",
   "execution_count": null,
   "metadata": {},
   "outputs": [],
   "source": [
    "mape_base = np.mean(np.abs((y_test1_summaryL1Z2_std.to_numpy() - y_pred_base_std) / y_test1_summaryL1Z2_std.to_numpy())) * 100"
   ]
  },
  {
   "cell_type": "code",
   "execution_count": null,
   "metadata": {},
   "outputs": [],
   "source": [
    "linearModel_all_MinMax.fit(X_train_all_minMax, y_train_all_minMax)"
   ]
  },
  {
   "cell_type": "code",
   "execution_count": null,
   "metadata": {},
   "outputs": [],
   "source": [
    "y_pred_all_minMax = linearModel_all_MinMax.predict(X_test_all_minMax)"
   ]
  },
  {
   "cell_type": "code",
   "execution_count": null,
   "metadata": {},
   "outputs": [],
   "source": [
    "minMseAWS = metrics.mean_squared_error(y_test_all_minMax, y_pred_all_minMax)\n",
    "minRmseAWS = np.sqrt(minMseAWS)\n",
    "minMaeAWS = metrics.mean_absolute_error(y_test_all_minMax, y_pred_all_minMax)\n",
    "minR2AWS = metrics.r2_score(y_test_all_minMax, y_pred_all_minMax)\n",
    "modelNameAWS = \"LinearRegressionL2_All_MinMax\""
   ]
  },
  {
   "cell_type": "code",
   "execution_count": null,
   "metadata": {},
   "outputs": [],
   "source": [
    "delta = pd.DataFrame()\n",
    "delta = (1-(pd.DataFrame(y_pred_all_minMax)  / y_test_all_minMax.to_numpy()))*100\n",
    "delta = delta.rename(columns={delta.columns[0]: \"Deviation (%)\"})"
   ]
  },
  {
   "cell_type": "code",
   "execution_count": null,
   "metadata": {},
   "outputs": [],
   "source": [
    "mpd_all = delta.median()[0]"
   ]
  },
  {
   "cell_type": "code",
   "execution_count": null,
   "metadata": {},
   "outputs": [],
   "source": [
    "mape_all = np.mean(np.abs((y_test_all_minMax.to_numpy() - y_pred_all_minMax) / y_test_all_minMax.to_numpy())) * 100"
   ]
  },
  {
   "cell_type": "code",
   "execution_count": null,
   "metadata": {},
   "outputs": [],
   "source": [
    "minMaeAWS, minR2AWS, minMseAWS, minRmseAWS, mape_all, mpd_all"
   ]
  },
  {
   "cell_type": "code",
   "execution_count": null,
   "metadata": {},
   "outputs": [],
   "source": [
    "minMaeAWS_base, minR2AWS_base, minMseAWS_base, minRmseAWS_base, mape_base, mpd_base"
   ]
  }
 ],
 "metadata": {
  "kernelspec": {
   "display_name": "TensorFlow-CPU",
   "language": "python",
   "name": "tf-cpu"
  },
  "language_info": {
   "codemirror_mode": {
    "name": "ipython",
    "version": 3
   },
   "file_extension": ".py",
   "mimetype": "text/x-python",
   "name": "python",
   "nbconvert_exporter": "python",
   "pygments_lexer": "ipython3",
   "version": "3.6.9"
  }
 },
 "nbformat": 4,
 "nbformat_minor": 2
}
