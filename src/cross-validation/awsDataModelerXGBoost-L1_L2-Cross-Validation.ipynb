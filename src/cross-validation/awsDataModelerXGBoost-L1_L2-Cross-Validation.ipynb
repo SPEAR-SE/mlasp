{
 "cells": [
  {
   "cell_type": "code",
   "execution_count": null,
   "metadata": {},
   "outputs": [],
   "source": [
    "from sklearn import metrics"
   ]
  },
  {
   "cell_type": "code",
   "execution_count": null,
   "metadata": {},
   "outputs": [],
   "source": [
    "import xgboost as xgb"
   ]
  },
  {
   "cell_type": "code",
   "execution_count": null,
   "metadata": {},
   "outputs": [],
   "source": [
    "# default = 0\n",
    "L1_reg_value = 750\n",
    "\n",
    "#default = 1\n",
    "L2_reg_value = 50"
   ]
  },
  {
   "cell_type": "code",
   "execution_count": null,
   "metadata": {},
   "outputs": [],
   "source": [
    "xgbModelBaseSTD = xgb.XGBRegressor(objective=\"reg:squarederror\", random_state=42, \n",
    "                                   n_estimators=400, \n",
    "                                   reg_alpha=L1_reg_value,\n",
    "                                  reg_lambda = L2_reg_value)\n",
    "\n",
    "xgbModelAllSTD = xgb.XGBRegressor(objective=\"reg:squarederror\", random_state=42, \n",
    "                                  n_estimators=400, \n",
    "                                  reg_alpha=L1_reg_value,\n",
    "                                 reg_lambda = L2_reg_value)\n"
   ]
  },
  {
   "cell_type": "code",
   "execution_count": null,
   "metadata": {},
   "outputs": [],
   "source": [
    "evalset_base_std = [(X_train_base_std, y_train_base_std), (X_test1_summaryL1Z2_std, y_test1_summaryL1Z2_std)]\n",
    "\n",
    "evalset_all_std = [(X_train_all_std, y_train_all_std), (X_test_all_std, y_test_all_std)]"
   ]
  },
  {
   "cell_type": "code",
   "execution_count": null,
   "metadata": {},
   "outputs": [],
   "source": [
    "xgbModelBaseSTD.fit(X_train_base_std, y_train_base_std, eval_set=evalset_base_std, eval_metric=['mae', 'rmse'], verbose=False)"
   ]
  },
  {
   "cell_type": "code",
   "execution_count": null,
   "metadata": {},
   "outputs": [],
   "source": [
    "y_pred_base_std = xgbModelBaseSTD.predict(X_test1_summaryL1Z2_std)"
   ]
  },
  {
   "cell_type": "code",
   "execution_count": null,
   "metadata": {},
   "outputs": [],
   "source": [
    "minMseAWS_base = metrics.mean_squared_error(y_test1_summaryL1Z2_std, y_pred_base_std)\n",
    "minRmseAWS_base = np.sqrt(minMseAWS_base)\n",
    "minMaeAWS_base = metrics.mean_absolute_error(y_test1_summaryL1Z2_std, y_pred_base_std)\n",
    "minR2AWS_base = metrics.r2_score(y_test1_summaryL1Z2_std, y_pred_base_std)\n",
    "modelNameAWS_base = \"XGBoost_Base_Std\""
   ]
  },
  {
   "cell_type": "code",
   "execution_count": null,
   "metadata": {},
   "outputs": [],
   "source": [
    "delta = pd.DataFrame()\n",
    "delta = (1-(pd.DataFrame(y_pred_base_std)  / y_test1_summaryL1Z2_std.to_numpy()))*100\n",
    "delta = delta.rename(columns={delta.columns[0]: \"ThroughputDeltaDeviationPercentage\"})"
   ]
  },
  {
   "cell_type": "code",
   "execution_count": null,
   "metadata": {
    "scrolled": true
   },
   "outputs": [],
   "source": [
    "mpd_base=delta.median()[0]"
   ]
  },
  {
   "cell_type": "code",
   "execution_count": null,
   "metadata": {},
   "outputs": [],
   "source": [
    "mape_base = np.mean(np.abs((y_test1_summaryL1Z2_std[y_test1_summaryL1Z2_std.columns[0]] - y_pred_base_std) / \n",
    "                      y_test1_summaryL1Z2_std[y_test1_summaryL1Z2_std.columns[0]])) * 100"
   ]
  },
  {
   "cell_type": "code",
   "execution_count": null,
   "metadata": {},
   "outputs": [],
   "source": [
    "results_base_std = xgbModelBaseSTD.evals_result()"
   ]
  },
  {
   "cell_type": "code",
   "execution_count": null,
   "metadata": {
    "scrolled": true
   },
   "outputs": [],
   "source": [
    "xgbModelAllSTD.fit(X_train_all_std, y_train_all_std, eval_set=evalset_all_std, eval_metric=['mae', 'rmse'], verbose=False)"
   ]
  },
  {
   "cell_type": "code",
   "execution_count": null,
   "metadata": {},
   "outputs": [],
   "source": [
    "y_pred_all_std = xgbModelAllSTD.predict(X_test_all_std)"
   ]
  },
  {
   "cell_type": "code",
   "execution_count": null,
   "metadata": {},
   "outputs": [],
   "source": [
    "minMseAWS = metrics.mean_squared_error(y_test_all_std, y_pred_all_std)\n",
    "minRmseAWS = np.sqrt(minMseAWS)\n",
    "minMaeAWS = metrics.mean_absolute_error(y_test_all_std, y_pred_all_std)\n",
    "minR2AWS = metrics.r2_score(y_test_all_std, y_pred_all_std)"
   ]
  },
  {
   "cell_type": "code",
   "execution_count": null,
   "metadata": {},
   "outputs": [],
   "source": [
    "delta = pd.DataFrame()\n",
    "delta = (1-(pd.DataFrame(y_pred_all_std)  / y_test_all_std.to_numpy()))*100\n",
    "delta = delta.rename(columns={delta.columns[0]: \"ThroughputDeltaDeviationPercentage\"})"
   ]
  },
  {
   "cell_type": "code",
   "execution_count": null,
   "metadata": {},
   "outputs": [],
   "source": [
    "mpd_all = delta.median()[0]"
   ]
  },
  {
   "cell_type": "code",
   "execution_count": null,
   "metadata": {},
   "outputs": [],
   "source": [
    "mape_all = np.mean(np.abs((y_test_all_std[y_test_all_std.columns[0]] - y_pred_all_std) / \n",
    "                      y_test_all_std[y_test_all_std.columns[0]])) * 100"
   ]
  },
  {
   "cell_type": "code",
   "execution_count": null,
   "metadata": {},
   "outputs": [],
   "source": [
    "results_all_std = xgbModelAllSTD.evals_result()"
   ]
  },
  {
   "cell_type": "code",
   "execution_count": null,
   "metadata": {},
   "outputs": [],
   "source": [
    "minMaeAWS, minR2AWS, minMseAWS, minRmseAWS, mape_all, mpd_all"
   ]
  },
  {
   "cell_type": "code",
   "execution_count": null,
   "metadata": {},
   "outputs": [],
   "source": [
    "minMaeAWS_base, minR2AWS_base, minMseAWS_base, minRmseAWS_base, mape_base, mpd_base"
   ]
  }
 ],
 "metadata": {
  "kernelspec": {
   "display_name": "TensorFlow-CPU",
   "language": "python",
   "name": "tf-cpu"
  },
  "language_info": {
   "codemirror_mode": {
    "name": "ipython",
    "version": 3
   },
   "file_extension": ".py",
   "mimetype": "text/x-python",
   "name": "python",
   "nbconvert_exporter": "python",
   "pygments_lexer": "ipython3",
   "version": "3.6.9"
  }
 },
 "nbformat": 4,
 "nbformat_minor": 2
}
