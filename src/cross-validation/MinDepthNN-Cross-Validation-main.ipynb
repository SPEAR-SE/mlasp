{
 "cells": [
  {
   "cell_type": "code",
   "execution_count": null,
   "metadata": {},
   "outputs": [],
   "source": [
    "activationToUse='RELU'"
   ]
  },
  {
   "cell_type": "code",
   "execution_count": null,
   "metadata": {},
   "outputs": [],
   "source": [
    "%run \"imports-Cross-Validation.ipynb\""
   ]
  },
  {
   "cell_type": "code",
   "execution_count": null,
   "metadata": {},
   "outputs": [],
   "source": [
    "kf = KFold(n_splits=10, shuffle=True, random_state=0) # test size will be 10%"
   ]
  },
  {
   "cell_type": "code",
   "execution_count": null,
   "metadata": {},
   "outputs": [],
   "source": [
    "rescolList = ['MAE', 'R2', 'MSE', 'RMSE', 'MAPE', 'MPD']\n",
    "dataFrame_all = pd.DataFrame(columns=rescolList)"
   ]
  },
  {
   "cell_type": "code",
   "execution_count": null,
   "metadata": {},
   "outputs": [],
   "source": [
    "for train, test in kf.split(allData):\n",
    "    X_train_large, X_test_large = allData.iloc[train], allData.iloc[test]\n",
    "    y_train_large = X_train_large['TotalMessages']\n",
    "    y_test_large = X_test_large['TotalMessages']\n",
    "        \n",
    "    %run \"minMaxScalerSetup-Cross-Validation.ipynb\"\n",
    "    %run \"standardScalerSetup-Cross-Validation.ipynb\"\n",
    "    %run \"awsModelerMinDepthNN-StdScaler-All-Cross-Validation.ipynb\"\n",
    "    \n",
    "    row_all = [minMaeAWS, minR2AWS, minMseAWS, minRmseAWS, mape_all, mpd_all]\n",
    "    \n",
    "    df_all = pd.DataFrame(np.array(row_all).reshape(1, len(rescolList)), columns=rescolList)\n",
    "    dataFrame_all = dataFrame_all.append(df_all, ignore_index=True)\n",
    "    "
   ]
  },
  {
   "cell_type": "code",
   "execution_count": null,
   "metadata": {},
   "outputs": [],
   "source": [
    "dataFrame_all"
   ]
  },
  {
   "cell_type": "code",
   "execution_count": null,
   "metadata": {},
   "outputs": [],
   "source": [
    "dataFrame_all.mean()"
   ]
  },
  {
   "cell_type": "code",
   "execution_count": null,
   "metadata": {},
   "outputs": [],
   "source": [
    "dataFrame_baseLOO = pd.DataFrame(columns=rescolList)"
   ]
  },
  {
   "cell_type": "code",
   "execution_count": null,
   "metadata": {},
   "outputs": [],
   "source": [
    "leaveOneOut = LeaveOneOut()\n",
    "n_splits = leaveOneOut.get_n_splits(baselinesDF_initial)"
   ]
  },
  {
   "cell_type": "code",
   "execution_count": null,
   "metadata": {},
   "outputs": [],
   "source": [
    "for train, test in leaveOneOut.split(baselinesDF_initial):\n",
    "    # LOO is recommended CV for fewer data points\n",
    "    baselinesDF, X_test_base = baselinesDF_initial.iloc[train], baselinesDF_initial.iloc[test]\n",
    "    \n",
    "    %run \"minMaxScalerSetup-Cross-Validation.ipynb\"\n",
    "    %run \"awsModelerMinDepthNN-MinMaxScaler-L2-Base-Cross-Validation.ipynb\"\n",
    "    \n",
    "    row_base = [minMaeAWS_base, minR2AWS_base, minMseAWS_base, minRmseAWS_base, mape_base, mpd_base]\n",
    "    \n",
    "    df_base = pd.DataFrame(np.array(row_base).reshape(1, len(rescolList)), columns=rescolList)\n",
    "    dataFrame_baseLOO = dataFrame_baseLOO.append(df_base, ignore_index=True)\n"
   ]
  },
  {
   "cell_type": "code",
   "execution_count": null,
   "metadata": {},
   "outputs": [],
   "source": [
    "dataFrame_baseLOO"
   ]
  },
  {
   "cell_type": "code",
   "execution_count": null,
   "metadata": {},
   "outputs": [],
   "source": [
    "dataFrame_baseLOO.mean()"
   ]
  }
 ],
 "metadata": {
  "kernelspec": {
   "display_name": "TensorFlow-CPU",
   "language": "python",
   "name": "tf-cpu"
  },
  "language_info": {
   "codemirror_mode": {
    "name": "ipython",
    "version": 3
   },
   "file_extension": ".py",
   "mimetype": "text/x-python",
   "name": "python",
   "nbconvert_exporter": "python",
   "pygments_lexer": "ipython3",
   "version": "3.6.9"
  }
 },
 "nbformat": 4,
 "nbformat_minor": 2
}
