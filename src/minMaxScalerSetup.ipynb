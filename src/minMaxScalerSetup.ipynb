{
 "cells": [
  {
   "cell_type": "code",
   "execution_count": null,
   "metadata": {},
   "outputs": [],
   "source": [
    "%run \"prepareFeatureSet.ipynb\"\n",
    "#loads all the preprocessing libraries and prepares the dataframe"
   ]
  },
  {
   "cell_type": "code",
   "execution_count": null,
   "metadata": {},
   "outputs": [],
   "source": [
    "from sklearn.preprocessing import MinMaxScaler\n",
    "\n",
    "minMaxScalerBase = MinMaxScaler()\n",
    "minMaxScalerBase.fit(baselinesDF[to_scale_vars])\n",
    "minMaxScalerAll = MinMaxScaler()\n",
    "minMaxScalerAll.fit(X_train_large[to_scale_vars])"
   ]
  },
  {
   "cell_type": "code",
   "execution_count": null,
   "metadata": {},
   "outputs": [],
   "source": [
    "# Transform datasets using MinMaxScaler\n",
    "y_train_base_minMax, X_train_base_minMax = prepareTestDataset(minMaxScalerBase, target_var, dropColumns, \n",
    "                                                           baselinesDF, outliers)\n",
    "\n",
    "y_test1_summaryL1Z2_minMax, X_test1_summaryL1Z2_minMax = prepareTestDataset(minMaxScalerBase, target_var, dropColumns, \n",
    "                                                           summaryL1Z2, outliers)\n",
    "\n",
    "y_test1_summaryL2Z2_minMax, X_test1_summaryL2Z2_minMax = prepareTestDataset(minMaxScalerBase, target_var, dropColumns, \n",
    "                                                           summaryL2Z2, outliers)\n",
    "\n",
    "y_test1_summaryL3Z2_minMax, X_test1_summaryL3Z2_minMax = prepareTestDataset(minMaxScalerBase, target_var, dropColumns, \n",
    "                                                           summaryL3Z2, outliers)\n",
    "\n",
    "y_train_all_minMax, X_train_all_minMax = prepareTestDataset(minMaxScalerAll, target_var, dropColumns, X_train_large, outliers)\n",
    "y_test_all_minMax, X_test_all_minMax = prepareTestDataset(minMaxScalerAll, target_var, dropColumns, X_test_large, outliers)"
   ]
  },
  {
   "cell_type": "code",
   "execution_count": null,
   "metadata": {},
   "outputs": [],
   "source": [
    "targetMinMaxScalerBase = MinMaxScaler()\n",
    "targetMinMaxScalerBase.fit(y_train_base_minMax)\n",
    "targetMinMaxScalerAll = MinMaxScaler()\n",
    "targetMinMaxScalerAll.fit(y_train_all_minMax)"
   ]
  },
  {
   "cell_type": "code",
   "execution_count": null,
   "metadata": {},
   "outputs": [],
   "source": [
    "y_train_scaled_minMax_base = targetMinMaxScalerBase.transform(y_train_base_minMax)\n",
    "y_test_scaled_minMax_base = targetMinMaxScalerBase.transform(y_test1_summaryL1Z2_minMax)\n",
    "y_train_scaled_minMax_all = targetMinMaxScalerAll.transform(y_train_all_minMax)\n",
    "y_test_scaled_minMax_all = targetMinMaxScalerAll.transform(y_test_all_minMax)"
   ]
  },
  {
   "cell_type": "code",
   "execution_count": null,
   "metadata": {},
   "outputs": [],
   "source": []
  }
 ],
 "metadata": {
  "kernelspec": {
   "display_name": "TensorFlow-CPU",
   "language": "python",
   "name": "tf-cpu"
  },
  "language_info": {
   "codemirror_mode": {
    "name": "ipython",
    "version": 3
   },
   "file_extension": ".py",
   "mimetype": "text/x-python",
   "name": "python",
   "nbconvert_exporter": "python",
   "pygments_lexer": "ipython3",
   "version": "3.6.9"
  }
 },
 "nbformat": 4,
 "nbformat_minor": 2
}
