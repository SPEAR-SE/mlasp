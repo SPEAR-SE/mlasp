{
 "cells": [
  {
   "cell_type": "code",
   "execution_count": null,
   "metadata": {},
   "outputs": [],
   "source": [
    "%run \"standardScalerSetup.ipynb\"\n",
    "%run \"minMaxScalerSetup.ipynb\"\n",
    "#loads all the preprocessing libraries and prepares the dataframe"
   ]
  },
  {
   "cell_type": "code",
   "execution_count": null,
   "metadata": {},
   "outputs": [],
   "source": [
    "# Neural Nets imports\n",
    "from tensorflow.keras.models import Sequential, load_model\n",
    "from tensorflow.keras.layers import Dense, Dropout, Flatten \n",
    "from tensorflow.keras.layers import Conv1D, MaxPooling1D, LSTM, BatchNormalization\n",
    "from tensorflow.keras.optimizers import Adam, Adadelta, Adagrad, Adamax, SGD\n",
    "from tensorflow.keras.callbacks import ReduceLROnPlateau, ModelCheckpoint\n",
    "from tensorflow.keras.regularizers import l1, l2, l1_l2"
   ]
  },
  {
   "cell_type": "code",
   "execution_count": null,
   "metadata": {},
   "outputs": [],
   "source": [
    "from sklearn import metrics"
   ]
  },
  {
   "cell_type": "code",
   "execution_count": null,
   "metadata": {},
   "outputs": [],
   "source": [
    "from tensorflow.keras.utils import multi_gpu_model"
   ]
  },
  {
   "cell_type": "code",
   "execution_count": null,
   "metadata": {},
   "outputs": [],
   "source": [
    "#### CNN Model ##########\n",
    "def format_to_cnn(df):\n",
    "    X = np.expand_dims(df, axis=2)\n",
    "    return X"
   ]
  },
  {
   "cell_type": "code",
   "execution_count": null,
   "metadata": {},
   "outputs": [],
   "source": [
    "verboseLevel=0\n",
    "validationSplit=0.2\n",
    "batchSize=30\n",
    "epochs=1000"
   ]
  },
  {
   "cell_type": "code",
   "execution_count": null,
   "metadata": {},
   "outputs": [],
   "source": [
    "# callback preparation\n",
    "reduce_lr = ReduceLROnPlateau(monitor='val_loss',\n",
    "                              factor=0.5,\n",
    "                              patience=2,\n",
    "                              verbose=verboseLevel,\n",
    "                              mode='min',\n",
    "                              min_lr=0.001)"
   ]
  },
  {
   "cell_type": "code",
   "execution_count": null,
   "metadata": {},
   "outputs": [],
   "source": [
    "inputSize = 9\n",
    "colList = ['HiddenLayers', 'R2Score', 'MAE', 'MSE', 'H5FileName', 'TrainHistory', 'TrainPredictions']"
   ]
  },
  {
   "cell_type": "code",
   "execution_count": null,
   "metadata": {},
   "outputs": [],
   "source": [
    "#Define CNN model\n",
    "def cnn_model_mae(inputSize=inputSize):\n",
    "    model = Sequential()\n",
    "    model.add(Conv1D(filters=64, kernel_size=6, activation=custom_activation,\n",
    "                     #kernel_regularizer=l1(0.01), bias_regularizer=l1(0.01),\n",
    "                     kernel_regularizer=l2(0.01), bias_regularizer=l2(0.01),\n",
    "                     #kernel_regularizer=l1_l2(0.01), bias_regularizer=l1_l2(0.01),                   \n",
    "                     input_shape=(inputSize,1)))\n",
    "    model.add(Conv1D(filters=64, kernel_size=3, \n",
    "                     #kernel_regularizer=l1(0.01), bias_regularizer=l1(0.01),\n",
    "                     kernel_regularizer=l2(0.01), bias_regularizer=l2(0.01),\n",
    "                     #kernel_regularizer=l1_l2(0.01), bias_regularizer=l1_l2(0.01),                   \n",
    "                     activation=custom_activation))\n",
    "    model.add(MaxPooling1D(pool_size=2))\n",
    "    model.add(Dropout(0.2))\n",
    "\n",
    "    model.add(Flatten())\n",
    "    model.add(Dense(128, \n",
    "                    #kernel_regularizer=l1(0.01), bias_regularizer=l1(0.01),\n",
    "                    kernel_regularizer=l2(0.01), bias_regularizer=l2(0.01),\n",
    "                    #kernel_regularizer=l1_l2(0.01), bias_regularizer=l1_l2(0.01),                   \n",
    "                    activation=custom_activation))\n",
    "    #model.add(BatchNormalization())\n",
    "    model.add(Dense(1, \n",
    "                    #kernel_regularizer=l1(0.01), bias_regularizer=l1(0.01),\n",
    "                    kernel_regularizer=l2(0.01), bias_regularizer=l2(0.01),\n",
    "                    #kernel_regularizer=l1_l2(0.01), bias_regularizer=l1_l2(0.01),                   \n",
    "                    activation=\"linear\"))\n",
    "\n",
    "    optmzr=Adam(lr=0.001)\n",
    "    model.compile(optimizer=optmzr, loss='mae', metrics=['mae'])\n",
    "\n",
    "    return model\n",
    "    \n",
    "def cnn_model_mse(inputSize=inputSize):\n",
    "    model = Sequential()\n",
    "    model.add(Conv1D(filters=64, kernel_size=6, activation=custom_activation,\n",
    "                     #kernel_regularizer=l1(0.01), bias_regularizer=l1(0.01),\n",
    "                     kernel_regularizer=l2(0.01), bias_regularizer=l2(0.01),\n",
    "                     #kernel_regularizer=l1_l2(0.01), bias_regularizer=l1_l2(0.01),                   \n",
    "                     input_shape=(inputSize,1)))\n",
    "    model.add(Conv1D(filters=64, kernel_size=3, \n",
    "                     #kernel_regularizer=l1(0.01), bias_regularizer=l1(0.01),\n",
    "                     kernel_regularizer=l2(0.01), bias_regularizer=l2(0.01),\n",
    "                     #kernel_regularizer=l1_l2(0.01), bias_regularizer=l1_l2(0.01),                   \n",
    "                     activation=custom_activation))\n",
    "    model.add(MaxPooling1D(pool_size=2))\n",
    "    model.add(Dropout(0.2))\n",
    "\n",
    "    model.add(Flatten())\n",
    "    model.add(Dense(128, \n",
    "                    #kernel_regularizer=l1(0.01), bias_regularizer=l1(0.01),\n",
    "                    kernel_regularizer=l2(0.01), bias_regularizer=l2(0.01),\n",
    "                    #kernel_regularizer=l1_l2(0.01), bias_regularizer=l1_l2(0.01),                   \n",
    "                    activation=custom_activation))\n",
    "    #model.add(BatchNormalization())\n",
    "    model.add(Dense(1, \n",
    "                    #kernel_regularizer=l1(0.01), bias_regularizer=l1(0.01),\n",
    "                    kernel_regularizer=l2(0.01), bias_regularizer=l2(0.01),\n",
    "                    #kernel_regularizer=l1_l2(0.01), bias_regularizer=l1_l2(0.01),                   \n",
    "                    activation=\"linear\"))\n",
    "\n",
    "    optmzr=Adam(lr=0.001)\n",
    "    model.compile(optimizer=optmzr, loss='mse', metrics=['mse'])\n",
    "\n",
    "    return model\n"
   ]
  },
  {
   "cell_type": "code",
   "execution_count": null,
   "metadata": {},
   "outputs": [],
   "source": [
    "checkpoint_cnn_std_all_mae = ModelCheckpoint(\"cnn_model_std_all_mae_L2.h5\",\n",
    "                             monitor='val_loss',\n",
    "                             verbose=verboseLevel,\n",
    "                             save_best_only=True,\n",
    "                             mode='min')\n",
    "callbacks_list_cnn_std_all_mae = [checkpoint_cnn_std_all_mae, reduce_lr]\n",
    "\n",
    "checkpoint_cnn_std_all_mse = ModelCheckpoint(\"cnn_model_std_all_mse_L2.h5\",\n",
    "                             monitor='val_loss',\n",
    "                             verbose=verboseLevel,\n",
    "                             save_best_only=True,\n",
    "                             mode='min')\n",
    "callbacks_list_cnn_std_all_mse = [checkpoint_cnn_std_all_mse, reduce_lr]"
   ]
  },
  {
   "cell_type": "code",
   "execution_count": null,
   "metadata": {},
   "outputs": [],
   "source": [
    "# Transform the datasets for LSTM processing\n",
    "cnn_X_test1_summaryL1Z2_std = format_to_cnn(X_test1_summaryL1Z2_std)\n",
    "cnn_X_test1_summaryL1Z2_minMax = format_to_cnn(X_test1_summaryL1Z2_minMax)\n",
    "cnn_X_train_base_std = format_to_cnn(X_train_base_std)\n",
    "cnn_X_train_base_minMax = format_to_cnn(X_train_base_minMax)\n",
    "cnn_X_train_all_std = format_to_cnn(X_train_all_std)\n",
    "cnn_X_train_all_minMax = format_to_cnn(X_train_all_minMax)\n",
    "cnn_X_test_all_std = format_to_cnn(X_test_all_std)\n",
    "cnn_X_test_all_minMax = format_to_cnn(X_test_all_minMax)"
   ]
  },
  {
   "cell_type": "code",
   "execution_count": null,
   "metadata": {},
   "outputs": [],
   "source": [
    "cnn_regr_std_all_mae = cnn_model_mae()\n",
    "cnn_regr_std_all_mse = cnn_model_mse()"
   ]
  },
  {
   "cell_type": "code",
   "execution_count": null,
   "metadata": {},
   "outputs": [],
   "source": [
    "cnn_regr_std_all_mae.summary()"
   ]
  },
  {
   "cell_type": "code",
   "execution_count": null,
   "metadata": {},
   "outputs": [],
   "source": [
    "# STD ALL MAE"
   ]
  },
  {
   "cell_type": "code",
   "execution_count": null,
   "metadata": {},
   "outputs": [],
   "source": [
    "%%time\n",
    "history_CNN_std_all_mae = cnn_regr_std_all_mae.fit(cnn_X_train_all_std, y_train_scaled_std_all,\n",
    "                            batch_size=30, \n",
    "                            validation_split=0.2, \n",
    "                            epochs=epochs, verbose=verboseLevel,\n",
    "                            callbacks=callbacks_list_cnn_std_all_mae)"
   ]
  },
  {
   "cell_type": "code",
   "execution_count": null,
   "metadata": {},
   "outputs": [],
   "source": [
    "cnn_regr_std_all_mae_new =load_model('cnn_model_std_all_mae_L2.h5')\n",
    "#Predict\n",
    "y_pred_CNN_std_all_mae_scaled = cnn_regr_std_all_mae_new.predict(cnn_X_test_all_std)\n",
    "#reverse scaling to compare to true values\n",
    "pred = targetStdScalerAll.inverse_transform(y_pred_CNN_std_all_mae_scaled)\n",
    "#Show results\n",
    "print(metrics.r2_score(y_test_all_std, pred))\n",
    "print(metrics.mean_absolute_error(y_test_all_std, pred))\n",
    "print(metrics.mean_squared_error(y_test_all_std, pred))"
   ]
  },
  {
   "cell_type": "code",
   "execution_count": null,
   "metadata": {},
   "outputs": [],
   "source": [
    "minMaeAWS = metrics.mean_absolute_error(y_test_all_std, pred)\n",
    "minR2AWS = metrics.r2_score(y_test_all_std, pred)\n",
    "modelNameAWS = \"CNN_STD_ALL_MAE\""
   ]
  },
  {
   "cell_type": "code",
   "execution_count": null,
   "metadata": {},
   "outputs": [],
   "source": [
    "#Plot train vs validation\n",
    "plt.figure(figsize=(20,10))\n",
    "plt.plot(history_CNN_std_all_mae.history['loss'])\n",
    "plt.plot(history_CNN_std_all_mae.history['val_loss'])\n",
    "plt.title('CNN MAE ALL STD model train vs validation loss')\n",
    "plt.ylabel('loss')\n",
    "plt.xlabel('epoch')\n",
    "plt.legend(['train', 'validation'], loc='upper right')\n",
    "plt.show()"
   ]
  },
  {
   "cell_type": "code",
   "execution_count": null,
   "metadata": {},
   "outputs": [],
   "source": [
    "# Plot prediction vs original\n",
    "plt.figure(figsize=(20,10))\n",
    "plt.scatter(range(y_test_all_std.shape[0]),y_test_all_std,label=\"Original Data\", alpha=0.6, c='black')\n",
    "plt.scatter(range(pred.shape[0]),pred,label=\"Predicted Data\", \n",
    "#plt.scatter(range(y_test_scaled_std_all.shape[0]),y_test_scaled_std_all,label=\"Original Data\", alpha=0.6, c='black')\n",
    "#plt.scatter(range(y_pred_CNN_std_all_mae_scaled.shape[0]),y_pred_CNN_std_all_mae_scaled,label=\"Predicted Data\", \n",
    "            alpha=0.6, c='red')\n",
    "plt.ylabel('Total Messages')\n",
    "plt.xlabel('Records')\n",
    "plt.title('CNN MAE Std All Model for X_test dataset prediction vs original')\n",
    "plt.legend()\n",
    "plt.show()"
   ]
  },
  {
   "cell_type": "code",
   "execution_count": null,
   "metadata": {},
   "outputs": [],
   "source": [
    "# STD ALL MSE"
   ]
  },
  {
   "cell_type": "code",
   "execution_count": null,
   "metadata": {},
   "outputs": [],
   "source": [
    "%%time\n",
    "history_CNN_std_all_mse = cnn_regr_std_all_mae.fit(cnn_X_train_all_std, y_train_scaled_std_all,\n",
    "                            batch_size=30, \n",
    "                            validation_split=0.2, \n",
    "                            epochs=epochs, verbose=verboseLevel,\n",
    "                            callbacks=callbacks_list_cnn_std_all_mse)"
   ]
  },
  {
   "cell_type": "code",
   "execution_count": null,
   "metadata": {},
   "outputs": [],
   "source": [
    "cnn_regr_std_all_mse_new =load_model('cnn_model_std_all_mse_L2.h5')\n",
    "#Predict\n",
    "y_pred_CNN_std_all_mse_scaled = cnn_regr_std_all_mse_new.predict(cnn_X_test_all_std)\n",
    "#reverse scaling to compare to true values\n",
    "pred = targetStdScalerAll.inverse_transform(y_pred_CNN_std_all_mse_scaled)\n",
    "#Show results\n",
    "print(metrics.r2_score(y_test_all_std, pred))\n",
    "print(metrics.mean_absolute_error(y_test_all_std, pred))\n",
    "print(metrics.mean_squared_error(y_test_all_std, pred))"
   ]
  },
  {
   "cell_type": "code",
   "execution_count": null,
   "metadata": {},
   "outputs": [],
   "source": [
    "if metrics.mean_absolute_error(y_test_all_std, pred) < minMaeAWS:\n",
    "    minMaeAWS = metrics.mean_absolute_error(y_test_all_std, pred)\n",
    "    minR2AWS = metrics.r2_score(y_test_all_std, pred)\n",
    "    modelNameAWS = \"CNN_STD_ALL_MSE\""
   ]
  },
  {
   "cell_type": "code",
   "execution_count": null,
   "metadata": {},
   "outputs": [],
   "source": [
    "#Plot train vs validation\n",
    "plt.figure(figsize=(20,10))\n",
    "plt.plot(history_CNN_std_all_mse.history['loss'])\n",
    "plt.plot(history_CNN_std_all_mse.history['val_loss'])\n",
    "plt.title('CNN MSE ALL STD model train vs validation loss')\n",
    "plt.ylabel('loss')\n",
    "plt.xlabel('epoch')\n",
    "plt.legend(['train', 'validation'], loc='upper right')\n",
    "plt.show()"
   ]
  },
  {
   "cell_type": "code",
   "execution_count": null,
   "metadata": {},
   "outputs": [],
   "source": [
    "# Plot prediction vs original\n",
    "plt.figure(figsize=(20,10))\n",
    "plt.scatter(range(y_test_all_std.shape[0]),y_test_all_std,label=\"Original Data\", alpha=0.6, c='black')\n",
    "plt.scatter(range(pred.shape[0]),pred,label=\"Predicted Data\", \n",
    "#plt.scatter(range(y_test_scaled_std_all.shape[0]),y_test_scaled_std_all,label=\"Original Data\", alpha=0.6, c='black')\n",
    "#plt.scatter(range(y_pred_CNN_std_all_mse_scaled.shape[0]),y_pred_CNN_std_all_mse_scaled,label=\"Predicted Data\", \n",
    "            alpha=0.6, c='red')\n",
    "plt.ylabel('Total Messages')\n",
    "plt.xlabel('Records')\n",
    "plt.title('CNN MSE Std All Model for X_test dataset prediction vs original')\n",
    "plt.legend()\n",
    "plt.show()"
   ]
  },
  {
   "cell_type": "code",
   "execution_count": null,
   "metadata": {},
   "outputs": [],
   "source": [
    "# MinMax All MAE"
   ]
  },
  {
   "cell_type": "code",
   "execution_count": null,
   "metadata": {},
   "outputs": [],
   "source": [
    "cnn_regr_minMax_all_mae = cnn_model_mae()\n",
    "cnn_regr_minMax_all_mse = cnn_model_mse()"
   ]
  },
  {
   "cell_type": "code",
   "execution_count": null,
   "metadata": {},
   "outputs": [],
   "source": [
    "checkpoint_cnn_minMax_all_mae = ModelCheckpoint(\"cnn_model_minMax_all_mae_L2.h5\",\n",
    "                             monitor='val_loss',\n",
    "                             verbose=verboseLevel,\n",
    "                             save_best_only=True,\n",
    "                             mode='min')\n",
    "callbacks_list_cnn_minMax_all_mae = [checkpoint_cnn_minMax_all_mae, reduce_lr]\n",
    "\n",
    "checkpoint_cnn_minMax_all_mse = ModelCheckpoint(\"cnn_model_minMax_all_mse_L2.h5\",\n",
    "                             monitor='val_loss',\n",
    "                             verbose=verboseLevel,\n",
    "                             save_best_only=True,\n",
    "                             mode='min')\n",
    "callbacks_list_cnn_minMax_all_mse = [checkpoint_cnn_minMax_all_mse, reduce_lr]"
   ]
  },
  {
   "cell_type": "code",
   "execution_count": null,
   "metadata": {},
   "outputs": [],
   "source": [
    "%%time\n",
    "history_CNN_minMax_all_mae = cnn_regr_minMax_all_mae.fit(cnn_X_train_all_minMax, y_train_scaled_minMax_all,\n",
    "                            batch_size=30, \n",
    "                            validation_split=0.2, \n",
    "                            epochs=epochs, verbose=verboseLevel,\n",
    "                            callbacks=callbacks_list_cnn_minMax_all_mae)"
   ]
  },
  {
   "cell_type": "code",
   "execution_count": null,
   "metadata": {},
   "outputs": [],
   "source": [
    "cnn_regr_minMax_all_mae_new =load_model('cnn_model_minMax_all_mae_L2.h5')\n",
    "#Predict\n",
    "y_pred_CNN_minMax_all_mae_scaled = cnn_regr_minMax_all_mae_new.predict(cnn_X_test_all_minMax)\n",
    "#reverse scaling to compare to true values\n",
    "pred = targetMinMaxScalerAll.inverse_transform(y_pred_CNN_minMax_all_mae_scaled)\n",
    "#Show results\n",
    "print(metrics.r2_score(y_test_all_minMax, pred))\n",
    "print(metrics.mean_absolute_error(y_test_all_minMax, pred))\n",
    "print(metrics.mean_squared_error(y_test_all_minMax, pred))"
   ]
  },
  {
   "cell_type": "code",
   "execution_count": null,
   "metadata": {},
   "outputs": [],
   "source": [
    "if metrics.mean_absolute_error(y_test_all_minMax, pred) < minMaeAWS:\n",
    "    minMaeAWS = metrics.mean_absolute_error(y_test_all_minMax, pred)\n",
    "    minR2AWS = metrics.r2_score(y_test_all_minMax, pred)\n",
    "    modelNameAWS = \"CNN_MinMax_ALL_MAE\""
   ]
  },
  {
   "cell_type": "code",
   "execution_count": null,
   "metadata": {},
   "outputs": [],
   "source": [
    "#Plot train vs validation\n",
    "plt.figure(figsize=(20,10))\n",
    "plt.plot(history_CNN_minMax_all_mae.history['loss'])\n",
    "plt.plot(history_CNN_minMax_all_mae.history['val_loss'])\n",
    "plt.title('CNN MAE ALL MinMax model train vs validation loss')\n",
    "plt.ylabel('loss')\n",
    "plt.xlabel('epoch')\n",
    "plt.legend(['train', 'validation'], loc='upper right')\n",
    "plt.show()"
   ]
  },
  {
   "cell_type": "code",
   "execution_count": null,
   "metadata": {},
   "outputs": [],
   "source": [
    "# Plot prediction vs original\n",
    "plt.figure(figsize=(20,10))\n",
    "plt.scatter(range(y_test_all_minMax.shape[0]),y_test_all_minMax,label=\"Original Data\", alpha=0.6, c='black')\n",
    "plt.scatter(range(pred.shape[0]),pred,label=\"Predicted Data\", \n",
    "#plt.scatter(range(y_test_scaled_minMax_all.shape[0]),y_test_scaled_minMax_all,label=\"Original Data\", alpha=0.6, c='black')\n",
    "#plt.scatter(range(y_pred_CNN_minMax_all_mae_scaled.shape[0]),y_pred_CNN_minMax_all_mae_scaled,label=\"Predicted Data\", \n",
    "            alpha=0.6, c='red')\n",
    "plt.ylabel('Total Messages')\n",
    "plt.xlabel('Records')\n",
    "plt.title('CNN MAE MinMax All Model for X_test dataset prediction vs original')\n",
    "plt.legend()\n",
    "plt.show()"
   ]
  },
  {
   "cell_type": "code",
   "execution_count": null,
   "metadata": {},
   "outputs": [],
   "source": [
    "#MinMax All MSE"
   ]
  },
  {
   "cell_type": "code",
   "execution_count": null,
   "metadata": {},
   "outputs": [],
   "source": [
    "%%time\n",
    "history_CNN_minMax_all_mse = cnn_regr_minMax_all_mse.fit(cnn_X_train_all_minMax, y_train_scaled_minMax_all,\n",
    "                            batch_size=30, \n",
    "                            validation_split=0.2, \n",
    "                            epochs=epochs, verbose=verboseLevel,\n",
    "                            callbacks=callbacks_list_cnn_minMax_all_mse)"
   ]
  },
  {
   "cell_type": "code",
   "execution_count": null,
   "metadata": {},
   "outputs": [],
   "source": [
    "cnn_regr_minMax_all_mse_new =load_model('cnn_model_minMax_all_mse_L2.h5')\n",
    "#Predict\n",
    "y_pred_CNN_minMax_all_mse_scaled = cnn_regr_minMax_all_mse_new.predict(cnn_X_test_all_minMax)\n",
    "#reverse scaling to compare to true values\n",
    "pred = targetMinMaxScalerAll.inverse_transform(y_pred_CNN_minMax_all_mse_scaled)\n",
    "#Show results\n",
    "print(metrics.r2_score(y_test_all_minMax, pred))\n",
    "print(metrics.mean_absolute_error(y_test_all_minMax, pred))\n",
    "print(metrics.mean_squared_error(y_test_all_minMax, pred))"
   ]
  },
  {
   "cell_type": "code",
   "execution_count": null,
   "metadata": {},
   "outputs": [],
   "source": [
    "if metrics.mean_absolute_error(y_test_all_minMax, pred) < minMaeAWS:\n",
    "    minMaeAWS = metrics.mean_absolute_error(y_test_all_minMax, pred)\n",
    "    minR2AWS = metrics.r2_score(y_test_all_minMax, pred)\n",
    "    modelNameAWS = \"CNN_MinMax_ALL_MSE\""
   ]
  },
  {
   "cell_type": "code",
   "execution_count": null,
   "metadata": {},
   "outputs": [],
   "source": [
    "#Plot train vs validation\n",
    "plt.figure(figsize=(20,10))\n",
    "plt.plot(history_CNN_minMax_all_mse.history['loss'])\n",
    "plt.plot(history_CNN_minMax_all_mse.history['val_loss'])\n",
    "plt.title('CNN MSE ALL MinMax model train vs validation loss')\n",
    "plt.ylabel('loss')\n",
    "plt.xlabel('epoch')\n",
    "plt.legend(['train', 'validation'], loc='upper right')\n",
    "plt.show()"
   ]
  },
  {
   "cell_type": "code",
   "execution_count": null,
   "metadata": {},
   "outputs": [],
   "source": [
    "# Plot prediction vs original\n",
    "plt.figure(figsize=(20,10))\n",
    "plt.scatter(range(y_test_all_minMax.shape[0]),y_test_all_minMax,label=\"Original Data\", alpha=0.6, c='black')\n",
    "plt.scatter(range(pred.shape[0]),pred,label=\"Predicted Data\", \n",
    "#plt.scatter(range(y_test_scaled_minMax_all.shape[0]),y_test_scaled_minMax_all,label=\"Original Data\", alpha=0.6, c='black')\n",
    "#plt.scatter(range(y_pred_CNN_minMax_all_mse_scaled.shape[0]),y_pred_CNN_minMax_all_mse_scaled,label=\"Predicted Data\", \n",
    "            alpha=0.6, c='red')\n",
    "plt.ylabel('Total Messages')\n",
    "plt.xlabel('Records')\n",
    "plt.title('CNN MSE MinMax All Model for X_test dataset prediction vs original')\n",
    "plt.legend()\n",
    "plt.show()"
   ]
  },
  {
   "cell_type": "code",
   "execution_count": null,
   "metadata": {},
   "outputs": [],
   "source": [
    "# Base STD"
   ]
  },
  {
   "cell_type": "code",
   "execution_count": null,
   "metadata": {},
   "outputs": [],
   "source": [
    "cnn_regr_std_base_mae = cnn_model_mae()\n",
    "cnn_regr_std_base_mse = cnn_model_mse()"
   ]
  },
  {
   "cell_type": "code",
   "execution_count": null,
   "metadata": {},
   "outputs": [],
   "source": [
    "checkpoint_cnn_std_base_mae = ModelCheckpoint(\"cnn_model_std_base_mae_L2.h5\",\n",
    "                             monitor='val_loss',\n",
    "                             verbose=verboseLevel,\n",
    "                             save_best_only=True,\n",
    "                             mode='min')\n",
    "callbacks_list_cnn_std_base_mae = [checkpoint_cnn_std_base_mae, reduce_lr]\n",
    "\n",
    "checkpoint_cnn_std_base_mse = ModelCheckpoint(\"cnn_model_std_base_mse_L2.h5\",\n",
    "                             monitor='val_loss',\n",
    "                             verbose=verboseLevel,\n",
    "                             save_best_only=True,\n",
    "                             mode='min')\n",
    "callbacks_list_cnn_std_base_mse = [checkpoint_cnn_std_base_mse, reduce_lr]"
   ]
  },
  {
   "cell_type": "code",
   "execution_count": null,
   "metadata": {},
   "outputs": [],
   "source": [
    "# Base STD MAE"
   ]
  },
  {
   "cell_type": "code",
   "execution_count": null,
   "metadata": {},
   "outputs": [],
   "source": [
    "%%time\n",
    "history_CNN_std_base_mae = cnn_regr_std_base_mae.fit(cnn_X_train_base_std, y_train_scaled_std_base,\n",
    "                            batch_size=5, \n",
    "                            validation_split=0.2, \n",
    "                            epochs=epochs, verbose=verboseLevel,\n",
    "                            callbacks=callbacks_list_cnn_std_base_mae)"
   ]
  },
  {
   "cell_type": "code",
   "execution_count": null,
   "metadata": {},
   "outputs": [],
   "source": [
    "cnn_regr_std_base_mae_new =load_model('cnn_model_std_base_mae_L2.h5')\n",
    "#Predict\n",
    "y_pred_CNN_std_base_mae_scaled = cnn_regr_std_base_mae_new.predict(cnn_X_test1_summaryL1Z2_std)\n",
    "#reverse scaling to compare to true values\n",
    "pred = targetStdScalerBase.inverse_transform(y_pred_CNN_std_base_mae_scaled)\n",
    "#Show results\n",
    "print(metrics.r2_score(y_test1_summaryL1Z2_std, pred))\n",
    "print(metrics.mean_absolute_error(y_test1_summaryL1Z2_std, pred))\n",
    "print(metrics.mean_squared_error(y_test1_summaryL1Z2_std, pred))"
   ]
  },
  {
   "cell_type": "code",
   "execution_count": null,
   "metadata": {},
   "outputs": [],
   "source": [
    "minMaeAWS_base = metrics.mean_absolute_error(y_test1_summaryL1Z2_std, pred)\n",
    "minR2AWS_base = metrics.r2_score(y_test1_summaryL1Z2_std, pred)\n",
    "modelNameAWS_base = \"CNN_STD_Base_MAE\""
   ]
  },
  {
   "cell_type": "code",
   "execution_count": null,
   "metadata": {},
   "outputs": [],
   "source": [
    "#Plot train vs validation\n",
    "plt.figure(figsize=(20,10))\n",
    "plt.plot(history_CNN_std_base_mae.history['loss'])\n",
    "plt.plot(history_CNN_std_base_mae.history['val_loss'])\n",
    "plt.title('CNN MAE Base STD model train vs validation loss')\n",
    "plt.ylabel('loss')\n",
    "plt.xlabel('epoch')\n",
    "plt.legend(['train', 'validation'], loc='upper right')\n",
    "plt.show()"
   ]
  },
  {
   "cell_type": "code",
   "execution_count": null,
   "metadata": {},
   "outputs": [],
   "source": [
    "# Plot prediction vs original\n",
    "plt.figure(figsize=(20,10))\n",
    "plt.scatter(range(y_test1_summaryL1Z2_std.shape[0]),y_test1_summaryL1Z2_std,label=\"Original Data\", alpha=0.6, c='black')\n",
    "plt.scatter(range(pred.shape[0]),pred,label=\"Predicted Data\", \n",
    "            alpha=0.6, c='red')\n",
    "plt.ylabel('Total Messages')\n",
    "plt.xlabel('Records')\n",
    "plt.title('CNN MAE Std Base Model for X_test_L1Z2 dataset prediction vs original')\n",
    "plt.legend()\n",
    "plt.show()"
   ]
  },
  {
   "cell_type": "code",
   "execution_count": null,
   "metadata": {},
   "outputs": [],
   "source": [
    "# Base STD MSE"
   ]
  },
  {
   "cell_type": "code",
   "execution_count": null,
   "metadata": {},
   "outputs": [],
   "source": [
    "%%time\n",
    "history_CNN_std_base_mse = cnn_regr_std_base_mse.fit(cnn_X_train_base_std, y_train_scaled_std_base,\n",
    "                            batch_size=5, \n",
    "                            validation_split=0.2, \n",
    "                            epochs=epochs, verbose=verboseLevel,\n",
    "                            callbacks=callbacks_list_cnn_std_base_mse)"
   ]
  },
  {
   "cell_type": "code",
   "execution_count": null,
   "metadata": {},
   "outputs": [],
   "source": [
    "cnn_regr_std_base_mse_new =load_model('cnn_model_std_base_mse_L2.h5')\n",
    "#Predict\n",
    "y_pred_CNN_std_base_mse_scaled = cnn_regr_std_base_mse_new.predict(cnn_X_test1_summaryL1Z2_std)\n",
    "#reverse scaling to compare to true values\n",
    "pred = targetStdScalerBase.inverse_transform(y_pred_CNN_std_base_mse_scaled)\n",
    "#Show results\n",
    "print(metrics.r2_score(y_test1_summaryL1Z2_std, pred))\n",
    "print(metrics.mean_absolute_error(y_test1_summaryL1Z2_std, pred))\n",
    "print(metrics.mean_squared_error(y_test1_summaryL1Z2_std, pred))"
   ]
  },
  {
   "cell_type": "code",
   "execution_count": null,
   "metadata": {},
   "outputs": [],
   "source": [
    "if metrics.mean_absolute_error(y_test1_summaryL1Z2_std, pred) < minMaeAWS_base:\n",
    "    minMaeAWS_base = metrics.mean_absolute_error(y_test1_summaryL1Z2_std, pred)\n",
    "    minR2AWS_base = metrics.r2_score(y_test1_summaryL1Z2_std, pred)\n",
    "    modelNameAWS_base = \"CNN_STD_Base_MSE\""
   ]
  },
  {
   "cell_type": "code",
   "execution_count": null,
   "metadata": {},
   "outputs": [],
   "source": [
    "#Plot train vs validation\n",
    "plt.figure(figsize=(20,10))\n",
    "plt.plot(history_CNN_std_base_mse.history['loss'])\n",
    "plt.plot(history_CNN_std_base_mse.history['val_loss'])\n",
    "plt.title('CNN MSE Base STD model train vs validation loss')\n",
    "plt.ylabel('loss')\n",
    "plt.xlabel('epoch')\n",
    "plt.legend(['train', 'validation'], loc='upper right')\n",
    "plt.show()"
   ]
  },
  {
   "cell_type": "code",
   "execution_count": null,
   "metadata": {},
   "outputs": [],
   "source": [
    "# Plot prediction vs original\n",
    "plt.figure(figsize=(20,10))\n",
    "plt.scatter(range(y_test1_summaryL1Z2_std.shape[0]),y_test1_summaryL1Z2_std,label=\"Original Data\", alpha=0.6, c='black')\n",
    "plt.scatter(range(pred.shape[0]),pred,label=\"Predicted Data\", \n",
    "            alpha=0.6, c='red')\n",
    "plt.ylabel('Total Messages')\n",
    "plt.xlabel('Records')\n",
    "plt.title('CNN MSE Std Base Model for X_test_L1Z2 dataset prediction vs original')\n",
    "plt.legend()\n",
    "plt.show()"
   ]
  },
  {
   "cell_type": "code",
   "execution_count": null,
   "metadata": {},
   "outputs": [],
   "source": [
    "# Base MinMax"
   ]
  },
  {
   "cell_type": "code",
   "execution_count": null,
   "metadata": {},
   "outputs": [],
   "source": [
    "cnn_regr_minMax_base_mae = cnn_model_mae()\n",
    "cnn_regr_minMax_base_mse = cnn_model_mse()"
   ]
  },
  {
   "cell_type": "code",
   "execution_count": null,
   "metadata": {},
   "outputs": [],
   "source": [
    "checkpoint_cnn_minMax_base_mae = ModelCheckpoint(\"cnn_model_minMax_base_mae_L2.h5\",\n",
    "                             monitor='val_loss',\n",
    "                             verbose=verboseLevel,\n",
    "                             save_best_only=True,\n",
    "                             mode='min')\n",
    "callbacks_list_cnn_minMax_base_mae = [checkpoint_cnn_minMax_base_mae, reduce_lr]\n",
    "\n",
    "checkpoint_cnn_minMax_base_mse = ModelCheckpoint(\"cnn_model_minMax_base_mse_L2.h5\",\n",
    "                             monitor='val_loss',\n",
    "                             verbose=verboseLevel,\n",
    "                             save_best_only=True,\n",
    "                             mode='min')\n",
    "callbacks_list_cnn_minMax_base_mse = [checkpoint_cnn_minMax_base_mse, reduce_lr]"
   ]
  },
  {
   "cell_type": "code",
   "execution_count": null,
   "metadata": {},
   "outputs": [],
   "source": [
    "# Base MinMax MAE"
   ]
  },
  {
   "cell_type": "code",
   "execution_count": null,
   "metadata": {},
   "outputs": [],
   "source": [
    "%%time\n",
    "history_CNN_minMax_base_mae = cnn_regr_minMax_base_mae.fit(cnn_X_train_base_minMax, y_train_scaled_minMax_base,\n",
    "                            batch_size=5, \n",
    "                            validation_split=0.2, \n",
    "                            epochs=epochs, verbose=verboseLevel,\n",
    "                            callbacks=callbacks_list_cnn_minMax_base_mae)"
   ]
  },
  {
   "cell_type": "code",
   "execution_count": null,
   "metadata": {},
   "outputs": [],
   "source": [
    "cnn_regr_minMax_base_mae_new =load_model('cnn_model_minMax_base_mae_L2.h5')\n",
    "#Predict\n",
    "y_pred_CNN_minMax_base_mae_scaled = cnn_regr_minMax_base_mae_new.predict(cnn_X_test1_summaryL1Z2_minMax)\n",
    "#reverse scaling to compare to true values\n",
    "pred = targetMinMaxScalerBase.inverse_transform(y_pred_CNN_minMax_base_mae_scaled)\n",
    "#Show results\n",
    "print(metrics.r2_score(y_test1_summaryL1Z2_minMax, pred))\n",
    "print(metrics.mean_absolute_error(y_test1_summaryL1Z2_minMax, pred))\n",
    "print(metrics.mean_squared_error(y_test1_summaryL1Z2_minMax, pred))"
   ]
  },
  {
   "cell_type": "code",
   "execution_count": null,
   "metadata": {},
   "outputs": [],
   "source": [
    "if metrics.mean_absolute_error(y_test1_summaryL1Z2_minMax, pred) < minMaeAWS_base:\n",
    "    minMaeAWS_base = metrics.mean_absolute_error(y_test1_summaryL1Z2_minMax, pred)\n",
    "    minR2AWS_base = metrics.r2_score(y_test1_summaryL1Z2_minMax, pred)\n",
    "    modelNameAWS_base = \"CNN_MinMax_Base_MAE\""
   ]
  },
  {
   "cell_type": "code",
   "execution_count": null,
   "metadata": {},
   "outputs": [],
   "source": [
    "#Plot train vs validation\n",
    "plt.figure(figsize=(20,10))\n",
    "plt.plot(history_CNN_minMax_base_mae.history['loss'])\n",
    "plt.plot(history_CNN_minMax_base_mae.history['val_loss'])\n",
    "plt.title('CNN MAE Base MinMax model train vs validation loss')\n",
    "plt.ylabel('loss')\n",
    "plt.xlabel('epoch')\n",
    "plt.legend(['train', 'validation'], loc='upper right')\n",
    "plt.show()"
   ]
  },
  {
   "cell_type": "code",
   "execution_count": null,
   "metadata": {},
   "outputs": [],
   "source": [
    "# Plot prediction vs original\n",
    "plt.figure(figsize=(20,10))\n",
    "plt.scatter(range(y_test1_summaryL1Z2_minMax.shape[0]),y_test1_summaryL1Z2_minMax,label=\"Original Data\", alpha=0.6, c='black')\n",
    "plt.scatter(range(pred.shape[0]),pred,label=\"Predicted Data\", \n",
    "            alpha=0.6, c='red')\n",
    "plt.ylabel('Total Messages')\n",
    "plt.xlabel('Records')\n",
    "plt.title('CNN MAE MinMax Base Model for X_test_L1Z2 dataset prediction vs original')\n",
    "plt.legend()\n",
    "plt.show()"
   ]
  },
  {
   "cell_type": "code",
   "execution_count": null,
   "metadata": {},
   "outputs": [],
   "source": [
    "# Base MinMax MSE"
   ]
  },
  {
   "cell_type": "code",
   "execution_count": null,
   "metadata": {},
   "outputs": [],
   "source": [
    "%%time\n",
    "history_CNN_minMax_base_mse = cnn_regr_minMax_base_mse.fit(cnn_X_train_base_minMax, y_train_scaled_minMax_base,\n",
    "                            batch_size=5, \n",
    "                            validation_split=0.2, \n",
    "                            epochs=epochs, verbose=verboseLevel,\n",
    "                            callbacks=callbacks_list_cnn_minMax_base_mse)"
   ]
  },
  {
   "cell_type": "code",
   "execution_count": null,
   "metadata": {},
   "outputs": [],
   "source": [
    "cnn_regr_minMax_base_mse_new =load_model('cnn_model_minMax_base_mse_L2.h5')\n",
    "#Predict\n",
    "y_pred_CNN_minMax_base_mse_scaled = cnn_regr_minMax_base_mse_new.predict(cnn_X_test1_summaryL1Z2_minMax)\n",
    "#reverse scaling to compare to true values\n",
    "pred = targetMinMaxScalerBase.inverse_transform(y_pred_CNN_minMax_base_mse_scaled)\n",
    "#Show results\n",
    "print(metrics.r2_score(y_test1_summaryL1Z2_minMax, pred))\n",
    "print(metrics.mean_absolute_error(y_test1_summaryL1Z2_minMax, pred))\n",
    "print(metrics.mean_squared_error(y_test1_summaryL1Z2_minMax, pred))"
   ]
  },
  {
   "cell_type": "code",
   "execution_count": null,
   "metadata": {},
   "outputs": [],
   "source": [
    "if metrics.mean_absolute_error(y_test1_summaryL1Z2_minMax, pred) < minMaeAWS_base:\n",
    "    minMaeAWS_base = metrics.mean_absolute_error(y_test1_summaryL1Z2_minMax, pred)\n",
    "    minR2AWS_base = metrics.r2_score(y_test1_summaryL1Z2_minMax, pred)\n",
    "    modelNameAWS_base = \"CNN_MinMax_Base_MSE\""
   ]
  },
  {
   "cell_type": "code",
   "execution_count": null,
   "metadata": {},
   "outputs": [],
   "source": [
    "#Plot train vs validation\n",
    "plt.figure(figsize=(20,10))\n",
    "plt.plot(history_CNN_minMax_base_mse.history['loss'])\n",
    "plt.plot(history_CNN_minMax_base_mse.history['val_loss'])\n",
    "plt.title('CNN MSE Base MinMax model train vs validation loss')\n",
    "plt.ylabel('loss')\n",
    "plt.xlabel('epoch')\n",
    "plt.legend(['train', 'validation'], loc='upper right')\n",
    "plt.show()"
   ]
  },
  {
   "cell_type": "code",
   "execution_count": null,
   "metadata": {},
   "outputs": [],
   "source": [
    "# Plot prediction vs original\n",
    "plt.figure(figsize=(20,10))\n",
    "plt.scatter(range(y_test1_summaryL1Z2_minMax.shape[0]),y_test1_summaryL1Z2_minMax,label=\"Original Data\", alpha=0.6, c='black')\n",
    "plt.scatter(range(pred.shape[0]),pred,label=\"Predicted Data\", \n",
    "            alpha=0.6, c='red')\n",
    "plt.ylabel('Total Messages')\n",
    "plt.xlabel('Records')\n",
    "plt.title('CNN MSE MinMax Base Model for X_test_L1Z2 dataset prediction vs original')\n",
    "plt.legend()\n",
    "plt.show()"
   ]
  },
  {
   "cell_type": "code",
   "execution_count": null,
   "metadata": {},
   "outputs": [],
   "source": [
    "minMaeAWS, minR2AWS, modelNameAWS"
   ]
  },
  {
   "cell_type": "code",
   "execution_count": null,
   "metadata": {},
   "outputs": [],
   "source": [
    "minMaeAWS_base, minR2AWS_base, modelNameAWS_base"
   ]
  }
 ],
 "metadata": {
  "kernelspec": {
   "display_name": "TensorFlow-CPU",
   "language": "python",
   "name": "tf-cpu"
  },
  "language_info": {
   "codemirror_mode": {
    "name": "ipython",
    "version": 3
   },
   "file_extension": ".py",
   "mimetype": "text/x-python",
   "name": "python",
   "nbconvert_exporter": "python",
   "pygments_lexer": "ipython3",
   "version": "3.6.9"
  }
 },
 "nbformat": 4,
 "nbformat_minor": 2
}
