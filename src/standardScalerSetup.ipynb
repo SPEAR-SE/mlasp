{
 "cells": [
  {
   "cell_type": "code",
   "execution_count": null,
   "metadata": {},
   "outputs": [],
   "source": [
    "%run \"prepareFeatureSet.ipynb\"\n",
    "#loads all the preprocessing libraries and prepares the dataframe"
   ]
  },
  {
   "cell_type": "code",
   "execution_count": null,
   "metadata": {},
   "outputs": [],
   "source": [
    "from sklearn.preprocessing import StandardScaler\n",
    "\n",
    "stdScalerBase = StandardScaler()\n",
    "stdScalerBase.fit(baselinesDF[to_scale_vars])\n",
    "stdScalerAll = StandardScaler()\n",
    "stdScalerAll.fit(X_train_large[to_scale_vars])"
   ]
  },
  {
   "cell_type": "code",
   "execution_count": null,
   "metadata": {},
   "outputs": [],
   "source": [
    "# Transform datasets using StandardScaler\n",
    "y_train_base_std, X_train_base_std = prepareTestDataset(stdScalerBase, target_var, dropColumns, \n",
    "                                                           baselinesDF, outliers)\n",
    "\n",
    "y_test1_summaryL1Z2_std, X_test1_summaryL1Z2_std = prepareTestDataset(stdScalerBase, target_var, dropColumns, \n",
    "                                                           summaryL1Z2, outliers)\n",
    "\n",
    "y_test1_summaryL2Z2_std, X_test1_summaryL2Z2_std = prepareTestDataset(stdScalerBase, target_var, dropColumns, \n",
    "                                                           summaryL2Z2, outliers)\n",
    "\n",
    "y_test1_summaryL3Z2_std, X_test1_summaryL3Z2_std = prepareTestDataset(stdScalerBase, target_var, dropColumns, \n",
    "                                                           summaryL3Z2, outliers)\n",
    "\n",
    "y_train_all_std, X_train_all_std = prepareTestDataset(stdScalerAll, target_var, dropColumns, X_train_large, outliers)\n",
    "y_test_all_std, X_test_all_std = prepareTestDataset(stdScalerAll, target_var, dropColumns, X_test_large, outliers)"
   ]
  },
  {
   "cell_type": "code",
   "execution_count": null,
   "metadata": {},
   "outputs": [],
   "source": [
    "targetStdScalerBase = StandardScaler()\n",
    "targetStdScalerBase.fit(y_train_base_std)\n",
    "targetStdScalerAll = StandardScaler()\n",
    "targetStdScalerAll.fit(y_train_all_std)"
   ]
  },
  {
   "cell_type": "code",
   "execution_count": null,
   "metadata": {},
   "outputs": [],
   "source": [
    "y_train_scaled_std_base = targetStdScalerBase.transform(y_train_base_std)\n",
    "y_test_scaled_std_base = targetStdScalerBase.transform(y_test1_summaryL1Z2_std)\n",
    "y_train_scaled_std_all = targetStdScalerAll.transform(y_train_all_std)\n",
    "y_test_scaled_std_all = targetStdScalerAll.transform(y_test_all_std)"
   ]
  },
  {
   "cell_type": "code",
   "execution_count": null,
   "metadata": {},
   "outputs": [],
   "source": []
  }
 ],
 "metadata": {
  "kernelspec": {
   "display_name": "TensorFlow-CPU",
   "language": "python",
   "name": "tf-cpu"
  },
  "language_info": {
   "codemirror_mode": {
    "name": "ipython",
    "version": 3
   },
   "file_extension": ".py",
   "mimetype": "text/x-python",
   "name": "python",
   "nbconvert_exporter": "python",
   "pygments_lexer": "ipython3",
   "version": "3.6.9"
  }
 },
 "nbformat": 4,
 "nbformat_minor": 2
}
