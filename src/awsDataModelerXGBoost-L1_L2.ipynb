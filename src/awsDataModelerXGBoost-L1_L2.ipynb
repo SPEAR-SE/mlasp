{
 "cells": [
  {
   "cell_type": "code",
   "execution_count": null,
   "metadata": {},
   "outputs": [],
   "source": [
    "%run \"minMaxScalerSetup.ipynb\"\n",
    "%run \"standardScalerSetup.ipynb\""
   ]
  },
  {
   "cell_type": "code",
   "execution_count": null,
   "metadata": {},
   "outputs": [],
   "source": [
    "from sklearn import metrics"
   ]
  },
  {
   "cell_type": "code",
   "execution_count": null,
   "metadata": {},
   "outputs": [],
   "source": [
    "import xgboost as xgb"
   ]
  },
  {
   "cell_type": "code",
   "execution_count": null,
   "metadata": {},
   "outputs": [],
   "source": [
    "# default = 0\n",
    "L1_reg_value = 750\n",
    "\n",
    "#default = 1\n",
    "L2_reg_value = 50"
   ]
  },
  {
   "cell_type": "code",
   "execution_count": null,
   "metadata": {},
   "outputs": [],
   "source": [
    "xgbModelBaseSTD = xgb.XGBRegressor(objective=\"reg:squarederror\", random_state=42, \n",
    "                                   n_estimators=400, \n",
    "                                   reg_alpha=L1_reg_value,\n",
    "                                  reg_lambda = L2_reg_value)\n",
    "xgbModelBaseMinMax = xgb.XGBRegressor(objective=\"reg:squarederror\", random_state=42, \n",
    "                                      n_estimators=400, \n",
    "                                      reg_alpha=L1_reg_value,\n",
    "                                     reg_lambda = L2_reg_value)\n",
    "xgbModelAllSTD = xgb.XGBRegressor(objective=\"reg:squarederror\", random_state=42, \n",
    "                                  n_estimators=400, \n",
    "                                  reg_alpha=L1_reg_value,\n",
    "                                 reg_lambda = L2_reg_value)\n",
    "xgbModelAllMinMax = xgb.XGBRegressor(objective=\"reg:squarederror\", random_state=42, \n",
    "                                     n_estimators=400, \n",
    "                                     reg_alpha=L1_reg_value,\n",
    "                                    reg_lambda = L2_reg_value)"
   ]
  },
  {
   "cell_type": "code",
   "execution_count": null,
   "metadata": {},
   "outputs": [],
   "source": [
    "xgbModelBaseSTD.fit(X_train_base_std, y_train_base_std)"
   ]
  },
  {
   "cell_type": "code",
   "execution_count": null,
   "metadata": {},
   "outputs": [],
   "source": [
    "y_pred_base_std = xgbModelBaseSTD.predict(X_test1_summaryL1Z2_std)"
   ]
  },
  {
   "cell_type": "code",
   "execution_count": null,
   "metadata": {},
   "outputs": [],
   "source": [
    "#Show results\n",
    "print(metrics.r2_score(y_test1_summaryL1Z2_std, y_pred_base_std))\n",
    "print(metrics.mean_absolute_error(y_test1_summaryL1Z2_std, y_pred_base_std))\n",
    "print(metrics.mean_squared_error(y_test1_summaryL1Z2_std, y_pred_base_std))"
   ]
  },
  {
   "cell_type": "code",
   "execution_count": null,
   "metadata": {},
   "outputs": [],
   "source": [
    "minMaeAWS_base = metrics.mean_absolute_error(y_test1_summaryL1Z2_std, y_pred_base_std)\n",
    "minR2AWS_base = metrics.r2_score(y_test1_summaryL1Z2_std, y_pred_base_std)\n",
    "modelNameAWS_base = \"XGBoost_Base_Std\""
   ]
  },
  {
   "cell_type": "code",
   "execution_count": null,
   "metadata": {},
   "outputs": [],
   "source": [
    "# Plot prediction vs original\n",
    "plt.figure(figsize=(20,10))\n",
    "plt.scatter(range(y_test1_summaryL1Z2_std.shape[0]),y_test1_summaryL1Z2_std,label=\"Original Data\", alpha=0.6, c='black')\n",
    "plt.scatter(range(y_pred_base_std.shape[0]),y_pred_base_std,label=\"Predicted Data\", \n",
    "            alpha=0.6, c='red')\n",
    "plt.ylabel('Total Messages')\n",
    "plt.xlabel('Records')\n",
    "plt.title('XGBoost Base STD dataset prediction vs original')\n",
    "plt.legend()\n",
    "plt.show()"
   ]
  },
  {
   "cell_type": "code",
   "execution_count": null,
   "metadata": {},
   "outputs": [],
   "source": [
    "y_pred_base_std/y_test1_summaryL1Z2_std.to_numpy()"
   ]
  },
  {
   "cell_type": "code",
   "execution_count": null,
   "metadata": {},
   "outputs": [],
   "source": [
    "delta = pd.DataFrame()\n",
    "delta = (1-(pd.DataFrame(y_pred_base_std)  / y_test1_summaryL1Z2_std.to_numpy()))*100\n",
    "delta = delta.rename(columns={delta.columns[0]: \"ThroughputDeltaDeviationPercentage\"})\n",
    "delta"
   ]
  },
  {
   "cell_type": "code",
   "execution_count": null,
   "metadata": {
    "scrolled": false
   },
   "outputs": [],
   "source": [
    "c = delta.plot.bar(figsize=(20,10))"
   ]
  },
  {
   "cell_type": "code",
   "execution_count": null,
   "metadata": {},
   "outputs": [],
   "source": [
    "c = delta.plot.hist()"
   ]
  },
  {
   "cell_type": "code",
   "execution_count": null,
   "metadata": {},
   "outputs": [],
   "source": [
    "xgbModelBaseMinMax.fit(X_train_base_minMax, y_train_base_minMax)"
   ]
  },
  {
   "cell_type": "code",
   "execution_count": null,
   "metadata": {},
   "outputs": [],
   "source": [
    "y_pred_base_minMax = xgbModelBaseMinMax.predict(X_test1_summaryL1Z2_minMax)"
   ]
  },
  {
   "cell_type": "code",
   "execution_count": null,
   "metadata": {},
   "outputs": [],
   "source": [
    "#Show results\n",
    "print(metrics.r2_score(y_test1_summaryL1Z2_minMax, y_pred_base_minMax))\n",
    "print(metrics.mean_absolute_error(y_test1_summaryL1Z2_minMax, y_pred_base_minMax))\n",
    "print(metrics.mean_squared_error(y_test1_summaryL1Z2_minMax, y_pred_base_minMax))"
   ]
  },
  {
   "cell_type": "code",
   "execution_count": null,
   "metadata": {},
   "outputs": [],
   "source": [
    "if metrics.mean_absolute_error(y_test1_summaryL1Z2_minMax, y_pred_base_minMax) < minMaeAWS_base:\n",
    "    minMaeAWS_base = metrics.mean_absolute_error(y_test1_summaryL1Z2_minMax, y_pred_base_minMax)\n",
    "    minR2AWS_base = metrics.r2_score(y_test1_summaryL1Z2_minMax, y_pred_base_minMax)\n",
    "    modelNameAWS_base = \"XGBoost_Base_MinMax\""
   ]
  },
  {
   "cell_type": "code",
   "execution_count": null,
   "metadata": {},
   "outputs": [],
   "source": [
    "# Plot prediction vs original\n",
    "plt.figure(figsize=(20,10))\n",
    "plt.scatter(range(y_test1_summaryL1Z2_minMax.shape[0]),y_test1_summaryL1Z2_minMax,label=\"Original Data\", alpha=0.6, c='black')\n",
    "plt.scatter(range(y_pred_base_minMax.shape[0]),y_pred_base_minMax,label=\"Predicted Data\", \n",
    "            alpha=0.6, c='red')\n",
    "plt.ylabel('Total Messages')\n",
    "plt.xlabel('Records')\n",
    "plt.title('XGBoost Base MinMax dataset prediction vs original')\n",
    "plt.legend()\n",
    "plt.show()"
   ]
  },
  {
   "cell_type": "code",
   "execution_count": null,
   "metadata": {
    "scrolled": true
   },
   "outputs": [],
   "source": [
    "xgbModelAllSTD.fit(X_train_all_std, y_train_all_std)"
   ]
  },
  {
   "cell_type": "code",
   "execution_count": null,
   "metadata": {},
   "outputs": [],
   "source": [
    "y_pred_all_std = xgbModelAllSTD.predict(X_test_all_std)"
   ]
  },
  {
   "cell_type": "code",
   "execution_count": null,
   "metadata": {},
   "outputs": [],
   "source": [
    "#Show results\n",
    "print(metrics.r2_score(y_test_all_std, y_pred_all_std))\n",
    "print(metrics.mean_absolute_error(y_test_all_std, y_pred_all_std))\n",
    "print(metrics.mean_squared_error(y_test_all_std, y_pred_all_std))"
   ]
  },
  {
   "cell_type": "code",
   "execution_count": null,
   "metadata": {},
   "outputs": [],
   "source": [
    "minMaeAWS = metrics.mean_absolute_error(y_test_all_std, y_pred_all_std)\n",
    "minR2AWS = metrics.r2_score(y_test_all_std, y_pred_all_std)\n",
    "modelNameAWS = \"XGBoost_All_Std\""
   ]
  },
  {
   "cell_type": "code",
   "execution_count": null,
   "metadata": {},
   "outputs": [],
   "source": [
    "# Plot prediction vs original\n",
    "plt.figure(figsize=(20,10))\n",
    "plt.scatter(range(y_test_all_std.shape[0]),y_test_all_std,label=\"Original Data\", alpha=0.6, c='black')\n",
    "plt.scatter(range(y_pred_all_std.shape[0]),y_pred_all_std,label=\"Predicted Data\", \n",
    "            alpha=0.6, c='red')\n",
    "plt.ylabel('Total Messages')\n",
    "plt.xlabel('Records')\n",
    "plt.title('XGBoost All STD dataset prediction vs original')\n",
    "plt.legend()\n",
    "plt.show()"
   ]
  },
  {
   "cell_type": "code",
   "execution_count": null,
   "metadata": {},
   "outputs": [],
   "source": [
    "delta = pd.DataFrame()\n",
    "delta = (1-(pd.DataFrame(y_pred_all_std)  / y_test_all_std.to_numpy()))*100\n",
    "delta = delta.rename(columns={delta.columns[0]: \"ThroughputDeltaDeviationPercentage\"})\n",
    "delta"
   ]
  },
  {
   "cell_type": "code",
   "execution_count": null,
   "metadata": {},
   "outputs": [],
   "source": [
    "c = delta.plot.bar(figsize=(20,10))"
   ]
  },
  {
   "cell_type": "code",
   "execution_count": null,
   "metadata": {},
   "outputs": [],
   "source": [
    "c = delta.plot.hist()"
   ]
  },
  {
   "cell_type": "code",
   "execution_count": null,
   "metadata": {},
   "outputs": [],
   "source": [
    "xgbModelAllMinMax.fit(X_train_all_minMax, y_train_all_minMax)"
   ]
  },
  {
   "cell_type": "code",
   "execution_count": null,
   "metadata": {},
   "outputs": [],
   "source": [
    "y_pred_all_minMax = xgbModelAllMinMax.predict(X_test_all_minMax)"
   ]
  },
  {
   "cell_type": "code",
   "execution_count": null,
   "metadata": {},
   "outputs": [],
   "source": [
    "#Show results\n",
    "print(metrics.r2_score(y_test_all_minMax, y_pred_all_minMax))\n",
    "print(metrics.mean_absolute_error(y_test_all_minMax, y_pred_all_minMax))\n",
    "print(metrics.mean_squared_error(y_test_all_minMax, y_pred_all_minMax))"
   ]
  },
  {
   "cell_type": "code",
   "execution_count": null,
   "metadata": {},
   "outputs": [],
   "source": [
    "if metrics.mean_absolute_error(y_test_all_minMax, y_pred_all_minMax) < minMaeAWS :\n",
    "    minMaeAWS = metrics.mean_absolute_error(y_test_all_minMax, y_pred_all_minMax)\n",
    "    minR2AWS = metrics.r2_score(y_test_all_minMax, y_pred_all_minMax)\n",
    "    modelNameAWS = \"XGBoost_All_MinMax\"\n"
   ]
  },
  {
   "cell_type": "code",
   "execution_count": null,
   "metadata": {},
   "outputs": [],
   "source": [
    "# Plot prediction vs original\n",
    "plt.figure(figsize=(20,10))\n",
    "plt.scatter(range(y_test_all_minMax.shape[0]),y_test_all_minMax,label=\"Original Data\", alpha=0.6, c='black')\n",
    "plt.scatter(range(y_pred_all_minMax.shape[0]),y_pred_all_minMax,label=\"Predicted Data\", \n",
    "            alpha=0.6, c='red')\n",
    "plt.ylabel('Total Messages')\n",
    "plt.xlabel('Records')\n",
    "plt.title('XGBoost All MinMax dataset prediction vs original')\n",
    "plt.legend()\n",
    "plt.show()"
   ]
  },
  {
   "cell_type": "code",
   "execution_count": null,
   "metadata": {},
   "outputs": [],
   "source": [
    "# for XGBoost the type of scaler does not seem to influence the prediction, however the size of the training data does.\n",
    "# similar to RandomForests the base recordset (30 items) is sufficient to build a good prediction model\n",
    "# XGBoost is slightly better than RandomForests for the larger datsaset and very close behind for the base one"
   ]
  },
  {
   "cell_type": "code",
   "execution_count": null,
   "metadata": {},
   "outputs": [],
   "source": [
    "minMaeAWS, minR2AWS, modelNameAWS"
   ]
  },
  {
   "cell_type": "code",
   "execution_count": null,
   "metadata": {},
   "outputs": [],
   "source": [
    "minMaeAWS_base, minR2AWS_base, modelNameAWS_base"
   ]
  },
  {
   "cell_type": "code",
   "execution_count": null,
   "metadata": {},
   "outputs": [],
   "source": []
  }
 ],
 "metadata": {
  "kernelspec": {
   "display_name": "TensorFlow-CPU",
   "language": "python",
   "name": "tf-cpu"
  },
  "language_info": {
   "codemirror_mode": {
    "name": "ipython",
    "version": 3
   },
   "file_extension": ".py",
   "mimetype": "text/x-python",
   "name": "python",
   "nbconvert_exporter": "python",
   "pygments_lexer": "ipython3",
   "version": "3.6.9"
  }
 },
 "nbformat": 4,
 "nbformat_minor": 2
}
