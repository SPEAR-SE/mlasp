{
 "cells": [
  {
   "cell_type": "code",
   "execution_count": null,
   "metadata": {},
   "outputs": [],
   "source": [
    "from pathlib import Path\n",
    "import os, sys"
   ]
  },
  {
   "cell_type": "code",
   "execution_count": null,
   "metadata": {},
   "outputs": [],
   "source": [
    "# Get the list of BNE model notebooks\n",
    "notebookList = !ls aws*.ipynb"
   ]
  },
  {
   "cell_type": "code",
   "execution_count": null,
   "metadata": {},
   "outputs": [],
   "source": [
    "notebookList"
   ]
  },
  {
   "cell_type": "code",
   "execution_count": null,
   "metadata": {},
   "outputs": [],
   "source": [
    "for notebook in notebookList:\n",
    "    print(f'Results from: {notebook}')\n",
    "    baseSource = !jq '.cells[] | select(.cell_type==\"code\") | select(.source[] | contains(\"minMaeAWS_base\") and contains(\"minR2AWS_base\")) | .source | .[]' $notebook\n",
    "    baseRes = !jq '.cells[] | select(.cell_type==\"code\") | select(.source[] | contains(\"minMaeAWS_base\") and contains(\"minR2AWS_base\")) | .outputs[] | .data.\"text/plain\" | .[]' $notebook\n",
    "    if len(baseSource) > 0:\n",
    "        print(f'\\t{baseSource}: {baseRes}')\n",
    "    \n",
    "    allSource = !jq '.cells[] | select(.cell_type==\"code\") | select(.source[] | contains(\"minMaeAWS\") and contains(\"minR2AWS\")) | select(.source[] | contains(\"minMaeAWS_base\") | not) | .source | .[]' $notebook\n",
    "    allRes = !jq '.cells[] | select(.cell_type==\"code\") | select(.source[] | contains(\"minMaeAWS\") and contains(\"minR2AWS\")) | select(.source[] | contains(\"minMaeAWS_base\") | not) | .outputs[] | .data.\"text/plain\" | .[]' $notebook\n",
    "    \n",
    "    if len(allRes) > 0:\n",
    "        print(f'\\t{allSource}: {allRes}')\n",
    "    \n",
    "    print(f'\\n')\n"
   ]
  },
  {
   "cell_type": "code",
   "execution_count": null,
   "metadata": {},
   "outputs": [],
   "source": []
  }
 ],
 "metadata": {
  "kernelspec": {
   "display_name": "TensorFlow-CPU",
   "language": "python",
   "name": "tf-cpu"
  },
  "language_info": {
   "codemirror_mode": {
    "name": "ipython",
    "version": 3
   },
   "file_extension": ".py",
   "mimetype": "text/x-python",
   "name": "python",
   "nbconvert_exporter": "python",
   "pygments_lexer": "ipython3",
   "version": "3.6.9"
  }
 },
 "nbformat": 4,
 "nbformat_minor": 2
}
